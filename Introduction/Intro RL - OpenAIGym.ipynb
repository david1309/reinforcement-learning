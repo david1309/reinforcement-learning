{
 "cells": [
  {
   "cell_type": "markdown",
   "metadata": {},
   "source": [
    "# Intro to RL / Open AI Gym - David S. course WILDML coding guide"
   ]
  },
  {
   "cell_type": "markdown",
   "metadata": {},
   "source": [
    "## Display Different Scenarios:"
   ]
  },
  {
   "cell_type": "code",
   "execution_count": null,
   "metadata": {
    "collapsed": true
   },
   "outputs": [],
   "source": [
    "import gym\n",
    "env = gym.make('MsPacman-v0') #Go9x9-v0, MountainCar-v0, CartPole-v0, 'SpaceInvaders-v0',Centipede-ramDeterministic-v0\n",
    "env.reset()\n",
    "for _ in range(1000):\n",
    "    env.render()\n",
    "    done = env.step(env.action_space.sample()) # take a random action"
   ]
  },
  {
   "cell_type": "markdown",
   "metadata": {},
   "source": [
    "## Get Observation and Reward for each time step of an Episode"
   ]
  },
  {
   "cell_type": "code",
   "execution_count": null,
   "metadata": {
    "collapsed": true
   },
   "outputs": [],
   "source": [
    "import gym\n",
    "env = gym.make('MountainCar-v0')\n",
    "\n",
    "for i_episode in range(3):\n",
    "    observation = env.reset() # Start episode    \n",
    "    \n",
    "    for t in range(100):\n",
    "        env.render() # simulate a time step\n",
    "        action = env.action_space.sample() # sample random action\n",
    "        observation, reward, done, info = env.step(action) # execute sampled random action \n",
    "        \n",
    "        if done:\n",
    "#             print(\"Episode finished after {} timesteps\".format(t+1))\n",
    "            break\n",
    "    \n",
    "env.render(close=True)# Close window"
   ]
  },
  {
   "cell_type": "markdown",
   "metadata": {},
   "source": [
    "## Explore Environments Space (actions,observations)"
   ]
  },
  {
   "cell_type": "code",
   "execution_count": null,
   "metadata": {
    "collapsed": true
   },
   "outputs": [],
   "source": [
    "import gym\n",
    "env = gym.make('CartPole-v0')\n",
    "print(env.action_space) # fixed range of non-negative numbers\n",
    "print(env.observation_space)# represents an n-dimensional box\n",
    "\n",
    "# ALL Environments\n",
    "from gym import envs\n",
    "\n",
    "print(\"Total Number of Envs:\",len(envs.registry.all()))\n",
    "# print(envs.registry.all())"
   ]
  },
  {
   "cell_type": "markdown",
   "metadata": {},
   "source": [
    "## Recording and Uploading Results "
   ]
  },
  {
   "cell_type": "code",
   "execution_count": null,
   "metadata": {
    "collapsed": true
   },
   "outputs": [],
   "source": [
    "import gym\n",
    "env = gym.make('CartPole-v0')\n",
    "\n",
    "# Record Environment\n",
    "env.monitor.start('/home/david/Desktop/RL - David SIlver (WILDML)')\n",
    "for i_episode in range(20):\n",
    "    observation = env.reset()\n",
    "    for t in range(100):\n",
    "        env.render()\n",
    "        print(observation)\n",
    "        action = env.action_space.sample()\n",
    "        observation, reward, done, info = env.step(action)\n",
    "        if done:\n",
    "            print(\"Episode finished after {} timesteps\".format(t+1))\n",
    "            break\n",
    "\n",
    "env.monitor.close()\n",
    "\n",
    "# Upload Results and Gist (showing how you acheived those results)\n",
    "# gym.upload('/home/david/etc..../', writeup='https://gist.github.com/gdb/etc...', api_key='YOUR_API_KEY')"
   ]
  }
 ],
 "metadata": {
  "kernelspec": {
   "display_name": "Python [conda root]",
   "language": "python",
   "name": "conda-root-py"
  },
  "language_info": {
   "codemirror_mode": {
    "name": "ipython",
    "version": 3
   },
   "file_extension": ".py",
   "mimetype": "text/x-python",
   "name": "python",
   "nbconvert_exporter": "python",
   "pygments_lexer": "ipython3",
   "version": "3.5.2"
  }
 },
 "nbformat": 4,
 "nbformat_minor": 1
}
