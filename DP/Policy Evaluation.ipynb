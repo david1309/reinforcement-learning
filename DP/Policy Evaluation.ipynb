{
 "cells": [
  {
   "cell_type": "code",
   "execution_count": 13,
   "metadata": {
    "collapsed": false,
    "slideshow": {
     "slide_type": "notes"
    }
   },
   "outputs": [],
   "source": [
    "import numpy as np\n",
    "import sys\n",
    "if \"../\" not in sys.path:\n",
    "  sys.path.append(\"../\") \n",
    "from lib.envs.gridworld import GridworldEnv"
   ]
  },
  {
   "cell_type": "code",
   "execution_count": 14,
   "metadata": {
    "collapsed": false
   },
   "outputs": [],
   "source": [
    "env = GridworldEnv()"
   ]
  },
  {
   "cell_type": "code",
   "execution_count": 15,
   "metadata": {
    "collapsed": false,
    "slideshow": {
     "slide_type": "slide"
    }
   },
   "outputs": [],
   "source": [
    "def policy_eval(pi, env, discount_factor=1.0, theta=0.00001):\n",
    "    \"\"\"\n",
    "    Evaluate a policy given an environment and a full description of the environment's dynamics.\n",
    "    \n",
    "    Args:\n",
    "        policy: [S, A] shaped matrix representing the policy.\n",
    "        env: OpenAI env. env.P represents the transition probabilities of the environment.\n",
    "            env.P[s][a] is a (prob, next_state, reward, done) tuple.\n",
    "        theta: We stop evaluation once our value function change is less than theta for all states.\n",
    "        discount_factor: gamma discount factor.\n",
    "    \n",
    "    Returns:\n",
    "        Vector of length env.nS representing the value function.\n",
    "    \"\"\"\n",
    "    # Start with a random (all 0) value function\n",
    "    V = np.zeros(env.nS)\n",
    "    gamma = discount_factor\n",
    "    i = 0 # Number of iterations till convergance \n",
    "    \n",
    "    while True:\n",
    "        # TODO: Implement!  \n",
    "        \n",
    "        # used to compute Delta V or for Normal DP (two copies of value function)\n",
    "        Vold = list(V) # CANT assign Vold = V because it would assign the same memory position to both  \n",
    "        \n",
    "        for s in range(env.nS):            \n",
    "            Vea = 0 # used to compute Expectation over all actions  \n",
    "            \n",
    "            for a in range(env.nA): # For each possible action in - s\n",
    "                Vq = 0 # q-value of current [s,a]                \n",
    "                for P,St1,Ra,_ in env.P[s][a]: # every possible s' wind might blow you after taking a from s\n",
    "                    Vq += P*V[St1] ## In-Place-DP\n",
    "#                     Vq += P*Vold[St1] ## Normal DP (two copies of value function)\n",
    "                Vq = Ra + gamma*Vq\n",
    "                Vea += pi[s,a]*Vq \n",
    "        \n",
    "            V[s] = Vea # update new value for state - s\n",
    "            \n",
    "        i+=1\n",
    "        if all([compare<theta for compare in abs(V-Vold)]):\n",
    "            break\n",
    "            \n",
    "    return np.array(V),i"
   ]
  },
  {
   "cell_type": "code",
   "execution_count": 22,
   "metadata": {
    "collapsed": false,
    "slideshow": {
     "slide_type": "subslide"
    }
   },
   "outputs": [
    {
     "name": "stdout",
     "output_type": "stream",
     "text": [
      "Num.Iterations :  141 \n",
      "\n",
      "Value distribution : \n",
      "\n"
     ]
    },
    {
     "data": {
      "text/plain": [
       "array([  0.        , -13.99993529, -19.99990698, -21.99989761,\n",
       "       -13.99993529, -17.9999206 , -19.99991379, -19.99991477,\n",
       "       -19.99990698, -19.99991379, -17.99992725, -13.99994569,\n",
       "       -21.99989761, -19.99991477, -13.99994569,   0.        ])"
      ]
     },
     "execution_count": 22,
     "metadata": {},
     "output_type": "execute_result"
    }
   ],
   "source": [
    "random_policy = np.ones([env.nS, env.nA]) / env.nA # random uniform policy\n",
    "v,i = policy_eval(random_policy, env) # call policy_eval methods\n",
    "\n",
    "print (\"Num.Iterations : \",i,\"\\n\")\n",
    "print (\"Value distribution : \\n\")\n",
    "v"
   ]
  },
  {
   "cell_type": "code",
   "execution_count": 17,
   "metadata": {
    "collapsed": false
   },
   "outputs": [],
   "source": [
    "#### Test: Make sure the evaluated policy is what we expected\n",
    "expected_v = np.array([0, -14, -20, -22, -14, -18, -20, -20, -20, -20, -18, -14, -22, -20, -14, 0])# Correct Vpi\n",
    "np.testing.assert_array_almost_equal(v, expected_v, decimal=2)"
   ]
  }
 ],
 "metadata": {
  "anaconda-cloud": {},
  "celltoolbar": "Raw Cell Format",
  "kernelspec": {
   "display_name": "Python [default]",
   "language": "python",
   "name": "python3"
  },
  "language_info": {
   "codemirror_mode": {
    "name": "ipython",
    "version": 3
   },
   "file_extension": ".py",
   "mimetype": "text/x-python",
   "name": "python",
   "nbconvert_exporter": "python",
   "pygments_lexer": "ipython3",
   "version": "3.5.2"
  }
 },
 "nbformat": 4,
 "nbformat_minor": 0
}
